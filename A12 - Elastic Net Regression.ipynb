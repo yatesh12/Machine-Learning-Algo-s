{
 "cells": [
  {
   "cell_type": "code",
   "execution_count": 1,
   "id": "e7d50bb3",
   "metadata": {},
   "outputs": [],
   "source": [
    "from sklearn.datasets import load_diabetes\n",
    "from sklearn.linear_model import LinearRegression, Ridge, Lasso, ElasticNet\n",
    "from sklearn.model_selection import train_test_split\n",
    "from sklearn.metrics import r2_score"
   ]
  },
  {
   "cell_type": "code",
   "execution_count": 3,
   "id": "a2efbce3",
   "metadata": {},
   "outputs": [],
   "source": [
    "X,y = load_diabetes(return_X_y=True)"
   ]
  },
  {
   "cell_type": "code",
   "execution_count": 4,
   "id": "808cd98b",
   "metadata": {},
   "outputs": [],
   "source": [
    "X_train,X_test,y_train,y_test = train_test_split(X,y,test_size=0.2,random_state=2)"
   ]
  },
  {
   "cell_type": "code",
   "execution_count": 6,
   "id": "30f91007",
   "metadata": {},
   "outputs": [
    {
     "data": {
      "text/plain": [
       "0.4399338661568968"
      ]
     },
     "execution_count": 6,
     "metadata": {},
     "output_type": "execute_result"
    }
   ],
   "source": [
    "# Linear Regression\n",
    "lr = LinearRegression()\n",
    "lr.fit(X_train,y_train)\n",
    "y_pred = lr.predict(X_test)\n",
    "r2_score(y_test,y_pred)"
   ]
  },
  {
   "cell_type": "code",
   "execution_count": 7,
   "id": "99a59214",
   "metadata": {},
   "outputs": [
    {
     "data": {
      "text/plain": [
       "0.45199494197195467"
      ]
     },
     "execution_count": 7,
     "metadata": {},
     "output_type": "execute_result"
    }
   ],
   "source": [
    "# Ridge Regression\n",
    "reg = Ridge(alpha=0.1)\n",
    "reg.fit(X_train,y_train)\n",
    "y_pred1 = reg.predict(X_test)\n",
    "r2_score(y_test, y_pred1)"
   ]
  },
  {
   "cell_type": "code",
   "execution_count": 11,
   "id": "186f52ef",
   "metadata": {},
   "outputs": [
    {
     "data": {
      "text/plain": [
       "0.44111855963110624"
      ]
     },
     "execution_count": 11,
     "metadata": {},
     "output_type": "execute_result"
    }
   ],
   "source": [
    "# Lasso Regression\n",
    "ls = Lasso(alpha=0.01)\n",
    "ls.fit(X_train,y_train)\n",
    "y_pred1 = ls.predict(X_test)\n",
    "r2_score(y_test, y_pred1)"
   ]
  },
  {
   "cell_type": "code",
   "execution_count": 18,
   "id": "c0e5bbbe",
   "metadata": {},
   "outputs": [
    {
     "data": {
      "text/plain": [
       "0.4531474541554822"
      ]
     },
     "execution_count": 18,
     "metadata": {},
     "output_type": "execute_result"
    }
   ],
   "source": [
    "# ElasticNet Regression\n",
    "en = ElasticNet(alpha=0.005, l1_ratio=0.9)\n",
    "en.fit(X_train,y_train)\n",
    "y_pred1 = en.predict(X_test)\n",
    "r2_score(y_test, y_pred1)"
   ]
  },
  {
   "cell_type": "code",
   "execution_count": null,
   "id": "f9f96365",
   "metadata": {},
   "outputs": [],
   "source": []
  }
 ],
 "metadata": {
  "kernelspec": {
   "display_name": "Python 3 (ipykernel)",
   "language": "python",
   "name": "python3"
  },
  "language_info": {
   "codemirror_mode": {
    "name": "ipython",
    "version": 3
   },
   "file_extension": ".py",
   "mimetype": "text/x-python",
   "name": "python",
   "nbconvert_exporter": "python",
   "pygments_lexer": "ipython3",
   "version": "3.11.5"
  }
 },
 "nbformat": 4,
 "nbformat_minor": 5
}
