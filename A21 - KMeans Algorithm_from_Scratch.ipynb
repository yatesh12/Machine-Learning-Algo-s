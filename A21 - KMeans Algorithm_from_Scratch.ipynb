{
 "cells": [
  {
   "cell_type": "code",
   "execution_count": 42,
   "id": "4fab7b23",
   "metadata": {},
   "outputs": [],
   "source": [
    "import random\n",
    "import numpy as np\n",
    "\n",
    "centroids = [(-5,-5),(5,5),(-2.5,2.5)]\n",
    "clueter_std = [1,1,1]\n",
    "\n",
    "class KMeans:\n",
    "    def __inti__(self,n_clusters=2,max_iter=100):\n",
    "        self.n_clusters = n_clusters\n",
    "        self.max_iter = max_iter\n",
    "        self.centroid = None\n",
    "        \n",
    "    def fit_predict(self,X):\n",
    "        \n",
    "        random_index = random.sample(range(0,X.shape[0]),self.n_clusters)\n",
    "        self.centroids = X[random_index]\n",
    "        \n",
    "        for i in range(self.max_iter):\n",
    "            # assign clusters\n",
    "            cluster_group = self.assing_clusters(X)\n",
    "            old_centroides = self.centroids\n",
    "            \n",
    "            # move centroods\n",
    "            self.centroids = self.move_centroids(X,cluster_group)\n",
    "            # check finih\n",
    "            if(old_centroides == self.centroids).all():\n",
    "                break\n",
    "            \n",
    "    def  assing_clusters(self,X):\n",
    "        cluster_group = []\n",
    "        distances = []\n",
    "        \n",
    "        for row in X:\n",
    "            for centroid in self.centroids:\n",
    "                distances.append(np.sqrt(np.dot(row-centroid,row-centroid)))\n",
    "            min_distances = min(distances)\n",
    "            index_pos = distances.index(min_distances)\n",
    "            cluster_group.append(index_pos)\n",
    "            distances.clear()\n",
    "        \n",
    "        return np.array(cluster_group)\n",
    "    \n",
    "    def move_centroids(self,X,cluster_group):\n",
    "        new_centroids = []\n",
    "        \n",
    "        cluster_type = np.unique(cluster_group)\n",
    "        \n",
    "        for type in cluster_type:\n",
    "            new_centroide.append(X[cluster_group == type].mean(axis=0))\n",
    "        "
   ]
  },
  {
   "cell_type": "code",
   "execution_count": null,
   "id": "f4b35da3",
   "metadata": {},
   "outputs": [],
   "source": []
  }
 ],
 "metadata": {
  "kernelspec": {
   "display_name": "Python 3 (ipykernel)",
   "language": "python",
   "name": "python3"
  },
  "language_info": {
   "codemirror_mode": {
    "name": "ipython",
    "version": 3
   },
   "file_extension": ".py",
   "mimetype": "text/x-python",
   "name": "python",
   "nbconvert_exporter": "python",
   "pygments_lexer": "ipython3",
   "version": "3.11.5"
  }
 },
 "nbformat": 4,
 "nbformat_minor": 5
}
